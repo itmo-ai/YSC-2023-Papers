{
 "cells": [
  {
   "cell_type": "code",
   "execution_count": 286,
   "metadata": {},
   "outputs": [],
   "source": [
    "DATA_LINK = \"https://docs.google.com/spreadsheets/d/1LYYyjZtW7cLXMN5mTh3-K1pBRn6ncA_T\"\n",
    "APPEND_TO_LINK = \"/gviz/tq?tqx=out:html&tq&gid=1\"\n",
    "TABLE_LINK = DATA_LINK + APPEND_TO_LINK"
   ]
  },
  {
   "cell_type": "code",
   "execution_count": 287,
   "metadata": {},
   "outputs": [],
   "source": [
    "import pandas as pd"
   ]
  },
  {
   "cell_type": "code",
   "execution_count": 288,
   "metadata": {},
   "outputs": [],
   "source": [
    "df = pd.read_html(TABLE_LINK, skiprows=2, header=0)[0]"
   ]
  },
  {
   "cell_type": "code",
   "execution_count": 289,
   "metadata": {},
   "outputs": [],
   "source": [
    "#display(df.head())"
   ]
  },
  {
   "cell_type": "code",
   "execution_count": 290,
   "metadata": {},
   "outputs": [],
   "source": [
    "def leave_only_number(text):\n",
    "    return text.split(\"_\")[1]\n",
    "\n",
    "import re\n",
    "def parse_links(text):\n",
    "    links = re.findall(r'(https?://\\S+)', str(text).rstrip(\".\"))\n",
    "    return links\n",
    "\n",
    "def link_to_badge(links):\n",
    "    if links:\n",
    "        links[0] = f\"[![Code](https://img.shields.io/badge/Code-159957.svg)]({links[0]})\"\n",
    "        try: \n",
    "            links[1] = f\"[![Data](https://img.shields.io/badge/Data-20BEFF.svg)]({links[1]})\"\n",
    "        except IndexError:\n",
    "            pass\n",
    "        return '<br />'.join(links)\n",
    "\n",
    "def generate_section_list(f, groups):\n",
    "    f.writelines('\\n## Papers\\n\\n')\n",
    "    f.writelines('<details open>\\n')\n",
    "    f.write('<summary>List of sections<a id=\"sections\"></a></summary>\\n\\n')\n",
    "    [f.write(title_to_link(name)) for (name, _) in groups]\n",
    "    f.write('</details>\\n\\n')\n",
    "\n",
    "def title_to_link(title):\n",
    "    return f\"- [{title}](#{title.lower().replace(' ', '-')})\\n\\n\"\n",
    "\n",
    "def generate_sections(f, groups):\n",
    "    for (name, g_df) in groups:\n",
    "        f.write(f\"## {name}\\n\\n\")\n",
    "        f.write(generate_section_badges(g_df))\n",
    "        f.write(g_df[[\"ID\",\"Title\",\"Links\"]].fillna('').to_markdown(colalign = ('center','left','center'), index=False))\n",
    "        f.write(\"\\n\\n\")\n",
    "        f.write(back_to_sections())\n",
    "\n",
    "import numpy as np\n",
    "def generate_section_badges(df):\n",
    "    return f\"![Section Papers](https://img.shields.io/badge/Section%20Papers-{df['ID'].count()}-42BA16) ![Papers with Open Code](https://img.shields.io/badge/Papers%20with%20Open%20Code-{df['Links'].replace('', np.nan).count()}-1D7FBF)\\n\"\n",
    "    \n",
    "\n",
    "def back_to_sections():\n",
    "    return f\"[Back to top](#papers)\\n\\n\""
   ]
  },
  {
   "cell_type": "code",
   "execution_count": 291,
   "metadata": {},
   "outputs": [],
   "source": [
    "# Generate List of Sections\n",
    "\n",
    "df = df.rename(columns={\"Ms ID #\": \"ID\", \"Manuscript Title\":\"Title\", \"No. of supplementary files\":\"Links\"})\n",
    "df[\"ID\"] = df[\"ID\"].apply(lambda cell: leave_only_number(cell))\n",
    "df[\"Links\"] = df[\"Links\"].apply(lambda cell: link_to_badge(parse_links(cell)))\n",
    "\n",
    "groups = df.groupby(\"Section\")\n",
    "\n",
    "with open('generated.md', 'w') as f:\n",
    "    generate_section_list(f,groups)\n",
    "    generate_sections(f,groups)"
   ]
  },
  {
   "cell_type": "code",
   "execution_count": 292,
   "metadata": {},
   "outputs": [],
   "source": [
    "# Merge base.md and generated.md into a single readme.md file\n",
    "\n",
    "filenames = [\"base.md\", \"generated.md\"]\n",
    "with open('../README.md', 'w') as outfile:\n",
    "    for fname in filenames:\n",
    "        with open(fname) as infile:\n",
    "            for line in infile:\n",
    "                outfile.write(line)"
   ]
  }
 ],
 "metadata": {
  "kernelspec": {
   "display_name": "Python 3",
   "language": "python",
   "name": "python3"
  },
  "language_info": {
   "codemirror_mode": {
    "name": "ipython",
    "version": 3
   },
   "file_extension": ".py",
   "mimetype": "text/x-python",
   "name": "python",
   "nbconvert_exporter": "python",
   "pygments_lexer": "ipython3",
   "version": "3.8.10"
  },
  "orig_nbformat": 4
 },
 "nbformat": 4,
 "nbformat_minor": 2
}
